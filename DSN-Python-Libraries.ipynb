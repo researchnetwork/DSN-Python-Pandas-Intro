{
 "cells": [
  {
   "cell_type": "code",
   "execution_count": 34,
   "id": "83158a68",
   "metadata": {},
   "outputs": [],
   "source": [
    "import pandas as pd"
   ]
  },
  {
   "cell_type": "code",
   "execution_count": 35,
   "id": "0593ddd4",
   "metadata": {},
   "outputs": [
    {
     "data": {
      "text/html": [
       "<div>\n",
       "<style scoped>\n",
       "    .dataframe tbody tr th:only-of-type {\n",
       "        vertical-align: middle;\n",
       "    }\n",
       "\n",
       "    .dataframe tbody tr th {\n",
       "        vertical-align: top;\n",
       "    }\n",
       "\n",
       "    .dataframe thead th {\n",
       "        text-align: right;\n",
       "    }\n",
       "</style>\n",
       "<table border=\"1\" class=\"dataframe\">\n",
       "  <thead>\n",
       "    <tr style=\"text-align: right;\">\n",
       "      <th></th>\n",
       "      <th>Name</th>\n",
       "      <th>Age</th>\n",
       "      <th>Capital</th>\n",
       "    </tr>\n",
       "  </thead>\n",
       "  <tbody>\n",
       "    <tr>\n",
       "      <th>0</th>\n",
       "      <td>Ayo</td>\n",
       "      <td>10</td>\n",
       "      <td>Umuahia</td>\n",
       "    </tr>\n",
       "    <tr>\n",
       "      <th>1</th>\n",
       "      <td>Imran</td>\n",
       "      <td>15</td>\n",
       "      <td>Yola</td>\n",
       "    </tr>\n",
       "    <tr>\n",
       "      <th>2</th>\n",
       "      <td>Chucks</td>\n",
       "      <td>14</td>\n",
       "      <td>PortHarcourt</td>\n",
       "    </tr>\n",
       "  </tbody>\n",
       "</table>\n",
       "</div>"
      ],
      "text/plain": [
       "     Name  Age       Capital\n",
       "0     Ayo   10       Umuahia\n",
       "1   Imran   15          Yola\n",
       "2  Chucks   14  PortHarcourt"
      ]
     },
     "execution_count": 35,
     "metadata": {},
     "output_type": "execute_result"
    }
   ],
   "source": [
    "#initialize list of list\n",
    "dat = [['Ayo', 10], ['Imran', 15],['Chucks', 14]]\n",
    "data2 = {'Name': ['Ayo', 'Imran', 'Chucks'], 'Age': [10,15,14], 'Capital': ['Umuahia', 'Yola', 'PortHarcourt']}\n",
    "\n",
    "#create the pandas DataFrame from the list and adding column header\n",
    "df = pd.DataFrame(dat, columns = ['Name', 'Age'])\n",
    "df2 = pd.DataFrame(data2)\n",
    "df\n",
    "df2"
   ]
  },
  {
   "cell_type": "code",
   "execution_count": 10,
   "id": "3cebc4f5",
   "metadata": {},
   "outputs": [
    {
     "data": {
      "text/plain": [
       "Name       object\n",
       "Age         int64\n",
       "Capital    object\n",
       "dtype: object"
      ]
     },
     "execution_count": 10,
     "metadata": {},
     "output_type": "execute_result"
    }
   ],
   "source": [
    "df2.dtypes"
   ]
  },
  {
   "cell_type": "code",
   "execution_count": 36,
   "id": "84ab22a9",
   "metadata": {},
   "outputs": [
    {
     "data": {
      "text/plain": [
       "<bound method DataFrame.info of      Name  Age       Capital\n",
       "0     Ayo   10       Umuahia\n",
       "1   Imran   15          Yola\n",
       "2  Chucks   14  PortHarcourt>"
      ]
     },
     "execution_count": 36,
     "metadata": {},
     "output_type": "execute_result"
    }
   ],
   "source": [
    "#Create thee pandas DaataFrame from the dictionary of narray list\n",
    "df2.info\n",
    "\n"
   ]
  },
  {
   "cell_type": "code",
   "execution_count": 15,
   "id": "0eadbb9e",
   "metadata": {},
   "outputs": [
    {
     "data": {
      "text/html": [
       "<div>\n",
       "<style scoped>\n",
       "    .dataframe tbody tr th:only-of-type {\n",
       "        vertical-align: middle;\n",
       "    }\n",
       "\n",
       "    .dataframe tbody tr th {\n",
       "        vertical-align: top;\n",
       "    }\n",
       "\n",
       "    .dataframe thead th {\n",
       "        text-align: right;\n",
       "    }\n",
       "</style>\n",
       "<table border=\"1\" class=\"dataframe\">\n",
       "  <thead>\n",
       "    <tr style=\"text-align: right;\">\n",
       "      <th></th>\n",
       "      <th>Name</th>\n",
       "      <th>Age</th>\n",
       "    </tr>\n",
       "  </thead>\n",
       "  <tbody>\n",
       "    <tr>\n",
       "      <th>0</th>\n",
       "      <td>Ayo</td>\n",
       "      <td>25</td>\n",
       "    </tr>\n",
       "    <tr>\n",
       "      <th>1</th>\n",
       "      <td>Imran</td>\n",
       "      <td>30</td>\n",
       "    </tr>\n",
       "    <tr>\n",
       "      <th>2</th>\n",
       "      <td>Chucks</td>\n",
       "      <td>26</td>\n",
       "    </tr>\n",
       "    <tr>\n",
       "      <th>3</th>\n",
       "      <td>Judith</td>\n",
       "      <td>22</td>\n",
       "    </tr>\n",
       "  </tbody>\n",
       "</table>\n",
       "</div>"
      ],
      "text/plain": [
       "     Name  Age\n",
       "0     Ayo   25\n",
       "1   Imran   30\n",
       "2  Chucks   26\n",
       "3  Judith   22"
      ]
     },
     "execution_count": 15,
     "metadata": {},
     "output_type": "execute_result"
    }
   ],
   "source": [
    "# Pandas DataFrame from lists using zip.\n",
    "#list1\n",
    "Name = ['Ayo', 'Imran', 'Chucks', 'Judith']\n",
    "\n",
    "#List2\n",
    "Age =  [25, 30, 26, 22]\n",
    "\n",
    "# get the list of tuples from 2 lists and merge them by using zip()\n",
    "\n",
    "lis_of_tuples = list(zip(Name,Age))\n",
    "\n",
    "df3 = pd.DataFrame(lis_of_tuples, columns = ['Name', 'Age'])\n",
    "df3\n"
   ]
  },
  {
   "cell_type": "code",
   "execution_count": 37,
   "id": "4e7ea6a6",
   "metadata": {},
   "outputs": [
    {
     "data": {
      "text/html": [
       "<div>\n",
       "<style scoped>\n",
       "    .dataframe tbody tr th:only-of-type {\n",
       "        vertical-align: middle;\n",
       "    }\n",
       "\n",
       "    .dataframe tbody tr th {\n",
       "        vertical-align: top;\n",
       "    }\n",
       "\n",
       "    .dataframe thead th {\n",
       "        text-align: right;\n",
       "    }\n",
       "</style>\n",
       "<table border=\"1\" class=\"dataframe\">\n",
       "  <thead>\n",
       "    <tr style=\"text-align: right;\">\n",
       "      <th></th>\n",
       "      <th>STATES</th>\n",
       "      <th>AREA (km2)</th>\n",
       "      <th>Population</th>\n",
       "    </tr>\n",
       "  </thead>\n",
       "  <tbody>\n",
       "    <tr>\n",
       "      <th>0</th>\n",
       "      <td>Abia State</td>\n",
       "      <td>6320</td>\n",
       "      <td>2845380</td>\n",
       "    </tr>\n",
       "    <tr>\n",
       "      <th>1</th>\n",
       "      <td>Adamawa State</td>\n",
       "      <td>36917</td>\n",
       "      <td>3178950</td>\n",
       "    </tr>\n",
       "    <tr>\n",
       "      <th>2</th>\n",
       "      <td>Akwa Ibom State</td>\n",
       "      <td>7081</td>\n",
       "      <td>3178950</td>\n",
       "    </tr>\n",
       "    <tr>\n",
       "      <th>3</th>\n",
       "      <td>Anambra State</td>\n",
       "      <td>4844</td>\n",
       "      <td>4177828</td>\n",
       "    </tr>\n",
       "    <tr>\n",
       "      <th>4</th>\n",
       "      <td>Bauchi State</td>\n",
       "      <td>45837</td>\n",
       "      <td>4653066</td>\n",
       "    </tr>\n",
       "  </tbody>\n",
       "</table>\n",
       "</div>"
      ],
      "text/plain": [
       "            STATES  AREA (km2)   Population\n",
       "0       Abia State         6320     2845380\n",
       "1    Adamawa State        36917     3178950\n",
       "2  Akwa Ibom State         7081     3178950\n",
       "3    Anambra State         4844     4177828\n",
       "4     Bauchi State        45837     4653066"
      ]
     },
     "execution_count": 37,
     "metadata": {},
     "output_type": "execute_result"
    }
   ],
   "source": [
    "# import csv data then view as Pandas of the Data set\n",
    "csv_df =pd.read_csv(\"C:/Users/henry/OneDrive/Desktop/DSN2006.csv\")\n",
    "csv_df.head()"
   ]
  },
  {
   "cell_type": "code",
   "execution_count": 28,
   "id": "a0cf6998",
   "metadata": {},
   "outputs": [
    {
     "data": {
      "text/html": [
       "<div>\n",
       "<style scoped>\n",
       "    .dataframe tbody tr th:only-of-type {\n",
       "        vertical-align: middle;\n",
       "    }\n",
       "\n",
       "    .dataframe tbody tr th {\n",
       "        vertical-align: top;\n",
       "    }\n",
       "\n",
       "    .dataframe thead th {\n",
       "        text-align: right;\n",
       "    }\n",
       "</style>\n",
       "<table border=\"1\" class=\"dataframe\">\n",
       "  <thead>\n",
       "    <tr style=\"text-align: right;\">\n",
       "      <th></th>\n",
       "      <th>STATES</th>\n",
       "      <th>AREA (km2)</th>\n",
       "      <th>Population</th>\n",
       "    </tr>\n",
       "  </thead>\n",
       "  <tbody>\n",
       "    <tr>\n",
       "      <th>count</th>\n",
       "      <td>37</td>\n",
       "      <td>37.000000</td>\n",
       "      <td>3.700000e+01</td>\n",
       "    </tr>\n",
       "    <tr>\n",
       "      <th>unique</th>\n",
       "      <td>37</td>\n",
       "      <td>NaN</td>\n",
       "      <td>NaN</td>\n",
       "    </tr>\n",
       "    <tr>\n",
       "      <th>top</th>\n",
       "      <td>Abia State</td>\n",
       "      <td>NaN</td>\n",
       "      <td>NaN</td>\n",
       "    </tr>\n",
       "    <tr>\n",
       "      <th>freq</th>\n",
       "      <td>1</td>\n",
       "      <td>NaN</td>\n",
       "      <td>NaN</td>\n",
       "    </tr>\n",
       "    <tr>\n",
       "      <th>mean</th>\n",
       "      <td>NaN</td>\n",
       "      <td>24990.864865</td>\n",
       "      <td>3.775879e+06</td>\n",
       "    </tr>\n",
       "    <tr>\n",
       "      <th>std</th>\n",
       "      <td>NaN</td>\n",
       "      <td>18243.870444</td>\n",
       "      <td>1.726418e+06</td>\n",
       "    </tr>\n",
       "    <tr>\n",
       "      <th>min</th>\n",
       "      <td>NaN</td>\n",
       "      <td>3345.000000</td>\n",
       "      <td>1.405201e+06</td>\n",
       "    </tr>\n",
       "    <tr>\n",
       "      <th>25%</th>\n",
       "      <td>NaN</td>\n",
       "      <td>9251.000000</td>\n",
       "      <td>2.845380e+06</td>\n",
       "    </tr>\n",
       "    <tr>\n",
       "      <th>50%</th>\n",
       "      <td>NaN</td>\n",
       "      <td>20156.000000</td>\n",
       "      <td>3.314043e+06</td>\n",
       "    </tr>\n",
       "    <tr>\n",
       "      <th>75%</th>\n",
       "      <td>NaN</td>\n",
       "      <td>36800.000000</td>\n",
       "      <td>4.177828e+06</td>\n",
       "    </tr>\n",
       "    <tr>\n",
       "      <th>max</th>\n",
       "      <td>NaN</td>\n",
       "      <td>76363.000000</td>\n",
       "      <td>9.401288e+06</td>\n",
       "    </tr>\n",
       "  </tbody>\n",
       "</table>\n",
       "</div>"
      ],
      "text/plain": [
       "            STATES   AREA (km2)     Population\n",
       "count           37     37.000000  3.700000e+01\n",
       "unique          37           NaN           NaN\n",
       "top     Abia State           NaN           NaN\n",
       "freq             1           NaN           NaN\n",
       "mean           NaN  24990.864865  3.775879e+06\n",
       "std            NaN  18243.870444  1.726418e+06\n",
       "min            NaN   3345.000000  1.405201e+06\n",
       "25%            NaN   9251.000000  2.845380e+06\n",
       "50%            NaN  20156.000000  3.314043e+06\n",
       "75%            NaN  36800.000000  4.177828e+06\n",
       "max            NaN  76363.000000  9.401288e+06"
      ]
     },
     "execution_count": 28,
     "metadata": {},
     "output_type": "execute_result"
    }
   ],
   "source": [
    "csv_df.describe(include = 'all')"
   ]
  },
  {
   "cell_type": "code",
   "execution_count": 33,
   "id": "90c33b38",
   "metadata": {},
   "outputs": [
    {
     "data": {
      "text/plain": [
       "0     2845380\n",
       "1     3178950\n",
       "2     3178950\n",
       "3     4177828\n",
       "4     4653066\n",
       "5     1704515\n",
       "6     4253641\n",
       "7     4171104\n",
       "8     2892988\n",
       "9     4112445\n",
       "10    2176947\n",
       "11    3233366\n",
       "12    2398957\n",
       "13    3267837\n",
       "14    1405201\n",
       "15    2365040\n",
       "16    3927563\n",
       "17    4361002\n",
       "18    6113503\n",
       "19    9401288\n",
       "20    5801584\n",
       "21    3256541\n",
       "22    3314043\n",
       "23    2365353\n",
       "24    9113605\n",
       "25    1869377\n",
       "26    3954772\n",
       "27    3751140\n",
       "28    3460877\n",
       "29    3416959\n",
       "30    5580894\n",
       "31    3206531\n",
       "32    5198605\n",
       "33    3702676\n",
       "34    2294800\n",
       "35    2321339\n",
       "36    3278873\n",
       "Name: Population, dtype: int64"
      ]
     },
     "execution_count": 33,
     "metadata": {},
     "output_type": "execute_result"
    }
   ],
   "source": [
    "csv_df['Population']"
   ]
  },
  {
   "cell_type": "code",
   "execution_count": null,
   "id": "4750512b",
   "metadata": {},
   "outputs": [],
   "source": []
  },
  {
   "cell_type": "code",
   "execution_count": null,
   "id": "f52c18f3",
   "metadata": {},
   "outputs": [],
   "source": []
  }
 ],
 "metadata": {
  "kernelspec": {
   "display_name": "Python 3 (ipykernel)",
   "language": "python",
   "name": "python3"
  },
  "language_info": {
   "codemirror_mode": {
    "name": "ipython",
    "version": 3
   },
   "file_extension": ".py",
   "mimetype": "text/x-python",
   "name": "python",
   "nbconvert_exporter": "python",
   "pygments_lexer": "ipython3",
   "version": "3.11.5"
  }
 },
 "nbformat": 4,
 "nbformat_minor": 5
}
